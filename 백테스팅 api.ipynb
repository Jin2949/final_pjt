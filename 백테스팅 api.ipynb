{
 "cells": [
  {
   "cell_type": "markdown",
   "id": "e53aad49-da6c-4727-8f89-83f24d469c69",
   "metadata": {},
   "source": [
    "# 백테스팅 코드api"
   ]
  },
  {
   "cell_type": "code",
   "execution_count": null,
   "id": "a58aeb32-af03-4d58-8bf5-efd4f1ff27fb",
   "metadata": {},
   "outputs": [],
   "source": [
    "class bt.backtest.RandomBenchmarkResult(*backtests)[source]\n",
    "Bases: Result\n",
    "\n",
    "RandomBenchmarkResult expands on Result to add methods specific to random strategy benchmarking.\n",
    "\n",
    "Args:\n",
    "backtests (list): List of backtests\n",
    "\n",
    "Attributes:\n",
    "base_name (str): Name of backtest being benchmarked\n",
    "\n",
    "r_stats (Result): Stats for random strategies\n",
    "\n",
    "b_stats (Result): Stats for benchmarked strategy\n",
    "\n",
    "plot_histogram(statistic='monthly_sharpe', figsize=(15, 5), title=None, bins=20, **kwargs)[source]\n",
    "Plots the distribution of a given statistic. The histogram represents the distribution of the random strategies’ statistic and the vertical line is the value of the benchmarked strategy’s statistic.\n",
    "\n",
    "This helps you determine if your strategy is statistically ‘better’ than the random versions.\n",
    "\n",
    "Args:\n",
    "statistic (str): Statistic - any numeric statistic in Result is valid.\n",
    "\n",
    "figsize ((x, y)): Figure size\n",
    "\n",
    "title (str): Chart title\n",
    "\n",
    "bins (int): Number of bins\n",
    "\n",
    "kwargs (dict): Passed to pandas hist function."
   ]
  }
 ],
 "metadata": {
  "kernelspec": {
   "display_name": "Python 3 (ipykernel)",
   "language": "python",
   "name": "python3"
  },
  "language_info": {
   "codemirror_mode": {
    "name": "ipython",
    "version": 3
   },
   "file_extension": ".py",
   "mimetype": "text/x-python",
   "name": "python",
   "nbconvert_exporter": "python",
   "pygments_lexer": "ipython3",
   "version": "3.8.8"
  }
 },
 "nbformat": 4,
 "nbformat_minor": 5
}
